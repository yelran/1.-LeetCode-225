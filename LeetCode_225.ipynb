{
  "nbformat": 4,
  "nbformat_minor": 0,
  "metadata": {
    "colab": {
      "provenance": [],
      "authorship_tag": "ABX9TyNwYhR73V3WyqtvUzYDBta0",
      "include_colab_link": true
    },
    "kernelspec": {
      "name": "python3",
      "display_name": "Python 3"
    },
    "language_info": {
      "name": "python"
    }
  },
  "cells": [
    {
      "cell_type": "markdown",
      "metadata": {
        "id": "view-in-github",
        "colab_type": "text"
      },
      "source": [
        "<a href=\"https://colab.research.google.com/github/yelran/1.-LeetCode-225/blob/main/LeetCode_225.ipynb\" target=\"_parent\"><img src=\"https://colab.research.google.com/assets/colab-badge.svg\" alt=\"Open In Colab\"/></a>"
      ]
    },
    {
      "cell_type": "markdown",
      "source": [],
      "metadata": {
        "id": "EdkBuuJ_frDP"
      }
    },
    {
      "cell_type": "markdown",
      "source": [
        "# 1. LeetCode 225"
      ],
      "metadata": {
        "id": "953LVdpZft8s"
      }
    },
    {
      "cell_type": "code",
      "source": [],
      "metadata": {
        "id": "HRqrcbeff8Is"
      },
      "execution_count": null,
      "outputs": []
    },
    {
      "cell_type": "code",
      "source": [
        "class MyQueue:\n",
        "\n",
        "    def __init__(self):\n",
        "        self.stack_in = []   # 입력 전용 스택\n",
        "        self.stack_out = []  # 출력 전용 스택\n",
        "\n",
        "    def push(self, x: int) -> None:\n",
        "        self.stack_in.append(x)\n",
        "\n",
        "    def pop(self) -> int:\n",
        "        self._move_if_needed()\n",
        "        return self.stack_out.pop()\n",
        "\n",
        "    def peek(self) -> int:\n",
        "        self._move_if_needed()\n",
        "        return self.stack_out[-1]\n",
        "\n",
        "    def empty(self) -> bool:\n",
        "        return not self.stack_in and not self.stack_out\n",
        "\n",
        "    def _move_if_needed(self):\n",
        "        # 출력 스택이 비어있을 때만 입력 스택에서 데이터를 옮김\n",
        "        if not self.stack_out:\n",
        "            while self.stack_in:\n",
        "                self.stack_out.append(self.stack_in.pop())"
      ],
      "metadata": {
        "id": "fKZKBUdSdlLH"
      },
      "execution_count": null,
      "outputs": []
    },
    {
      "cell_type": "markdown",
      "source": [
        "# 2. LeetCode 232"
      ],
      "metadata": {
        "id": "lZiJoF2Jf28s"
      }
    },
    {
      "cell_type": "code",
      "execution_count": 1,
      "metadata": {
        "id": "o9s52vzQWBJc"
      },
      "outputs": [],
      "source": [
        "from collections import deque\n",
        "\n",
        "class MyStack:\n",
        "\n",
        "    def __init__(self):\n",
        "        self.q1 = deque()  # 주 큐\n",
        "        self.q2 = deque()  # 보조 큐\n",
        "\n",
        "    def push(self, x: int) -> None:\n",
        "        # 새로운 원소는 보조 큐에 넣고\n",
        "        self.q2.append(x)\n",
        "\n",
        "        # 기존 원소들을 보조 큐 뒤에 붙임 (순서를 유지하기 위해)\n",
        "        while self.q1:\n",
        "            self.q2.append(self.q1.popleft())\n",
        "\n",
        "        # 큐 교체 (q2 → q1, q1은 초기화됨)\n",
        "        self.q1, self.q2 = self.q2, self.q1\n",
        "\n",
        "    def pop(self) -> int:\n",
        "        # 항상 q1의 맨 앞이 스택의 top\n",
        "        return self.q1.popleft()\n",
        "\n",
        "    def top(self) -> int:\n",
        "        return self.q1[0]\n",
        "\n",
        "    def empty(self) -> bool:\n",
        "        return not self.q1"
      ]
    },
    {
      "cell_type": "markdown",
      "source": [
        "# 3. Chapter 7"
      ],
      "metadata": {
        "id": "cvcFaSmLgV4m"
      }
    },
    {
      "cell_type": "markdown",
      "source": [
        "# 7-1"
      ],
      "metadata": {
        "id": "REV8IdJxgeTV"
      }
    },
    {
      "cell_type": "code",
      "source": [
        "class ListQueue:\n",
        "  def __init__(self):\n",
        "    self.__queue = []\n",
        "\n",
        "  def enqueue(self,item):\n",
        "    self.__queue.insert(0,item)\n",
        "\n",
        "  def dequeue(self):\n",
        "    return self.__queue.pop()\n",
        "\n",
        "  def front(self):\n",
        "    if self.__queue.is_empty():\n",
        "      return None\n",
        "    else :\n",
        "      return self.__queue[len(self.__queue)-1]\n",
        "\n",
        "  def is_empty(self) -> bool :\n",
        "    return not bool(self.__queue)\n",
        "\n",
        "  def dequeue_all(self):\n",
        "    self.__queue.clear()\n"
      ],
      "metadata": {
        "id": "WkZMGUpXga9Y"
      },
      "execution_count": 8,
      "outputs": []
    },
    {
      "cell_type": "markdown",
      "source": [],
      "metadata": {
        "id": "veGCR-7aWZE4"
      }
    },
    {
      "cell_type": "markdown",
      "source": [
        "# 7-2"
      ],
      "metadata": {
        "id": "MmxJ65pegv6l"
      }
    },
    {
      "cell_type": "code",
      "source": [
        "from collections import deque\n",
        "\n",
        "def is_in_set(input_str):\n",
        "    # 1. 문자열에 '$'가 반드시 포함되어야 함\n",
        "    if '$' not in input_str:\n",
        "        return False\n",
        "\n",
        "    # 2. '$'를 기준으로 앞/뒤 나누기\n",
        "    front, back = input_str.split('$')\n",
        "\n",
        "    # 3. 앞 문자열을 큐에 저장\n",
        "    q = deque()\n",
        "    for ch in front:\n",
        "        q.append(ch)\n",
        "\n",
        "    # 4. 뒤 문자열을 큐에서 꺼내 비교\n",
        "    for ch in reversed(back):  # 거꾸로 비교해야 됨 (뒤는 반대순서니까)\n",
        "        if not q:\n",
        "            return False\n",
        "        if ch != q.popleft():\n",
        "            return False\n",
        "\n",
        "    return not q  # 큐가 다 비워졌으면 OK"
      ],
      "metadata": {
        "id": "ZbdNbcmigvFy"
      },
      "execution_count": 28,
      "outputs": []
    },
    {
      "cell_type": "markdown",
      "source": [
        "# 7-3"
      ],
      "metadata": {
        "id": "D5DO9WKPgzs0"
      }
    },
    {
      "cell_type": "code",
      "source": [
        "from collections import deque\n",
        "\n",
        "def copy_linked_queue(A):\n",
        "    temp = deque()\n",
        "    B = deque()\n",
        "\n",
        "    while A:\n",
        "        item = A.popleft()\n",
        "        temp.append(item)\n",
        "        B.append(item)\n",
        "\n",
        "    # A 복원\n",
        "    while temp:\n",
        "        A.append(temp.popleft())\n",
        "\n",
        "    return B"
      ],
      "metadata": {
        "id": "lSBBW73qg4E8"
      },
      "execution_count": 27,
      "outputs": []
    },
    {
      "cell_type": "markdown",
      "source": [],
      "metadata": {
        "id": "ukNydRIem_LJ"
      }
    },
    {
      "cell_type": "markdown",
      "source": [
        "# 7-4"
      ],
      "metadata": {
        "id": "Wt_w8h6ymFMt"
      }
    },
    {
      "cell_type": "code",
      "source": [
        "from collections import deque\n",
        "\n",
        "class StackUsingQueues:\n",
        "    def __init__(self):\n",
        "        self.q1 = deque()\n",
        "        self.q2 = deque()\n",
        "\n",
        "    def push(self, item):\n",
        "        self.q1.append(item)\n",
        "\n",
        "    def pop(self):\n",
        "        while len(self.q1) > 1:\n",
        "            self.q2.append(self.q1.popleft())\n",
        "        popped = self.q1.popleft()\n",
        "        self.q1, self.q2 = self.q2, self.q1\n",
        "        return popped"
      ],
      "metadata": {
        "id": "CPmrj7EUmLeY"
      },
      "execution_count": 25,
      "outputs": []
    },
    {
      "cell_type": "markdown",
      "source": [
        "# 7-5"
      ],
      "metadata": {
        "id": "yB9FnqsSmJiP"
      }
    },
    {
      "cell_type": "code",
      "source": [
        "class QueueUsingStacks:\n",
        "    def __init__(self):\n",
        "        self.s1 = []\n",
        "        self.s2 = []\n",
        "\n",
        "    def enqueue(self, item):\n",
        "        self.s1.append(item)\n",
        "\n",
        "    def dequeue(self):\n",
        "        if not self.s2:\n",
        "            while self.s1:\n",
        "                self.s2.append(self.s1.pop())\n",
        "        return self.s2.pop() if self.s2 else None\n"
      ],
      "metadata": {
        "id": "V6XTzgeLmMGf"
      },
      "execution_count": 26,
      "outputs": []
    },
    {
      "cell_type": "markdown",
      "source": [
        "# 7-6"
      ],
      "metadata": {
        "id": "-ceE51K5mMqJ"
      }
    },
    {
      "cell_type": "markdown",
      "source": [
        "구현하고자 하는 Deque는 단방향원형리스트를 기반으로 한다.\n",
        "또한, 이 Deque의 front는 리스트의 맨 앞이며 tail은 리스트의 맨 끝으로 한다.\n",
        "enqueue()의 수행시간은 Deque의 front에서 수행할 시 Θ(1), Deque의 tail에서 수행할 시 Θ(1)이다. 따라서 수행 위치에 상관없이 enqueue()의 수행 시간은 Θ(1)이다.\n",
        "dequeue()의 수행시간은 Deque의 front에서 수행할 시 Θ(1), Deque의 tail에서 수행할 시 Θ(1)이다. 따라서 수행 위치에 상관없이 dequeue()의 수행 시간은 Θ(1)이다."
      ],
      "metadata": {
        "id": "CKoOSPU8meeO"
      }
    },
    {
      "cell_type": "markdown",
      "source": [],
      "metadata": {
        "id": "vRo6H7TFmfQ2"
      }
    },
    {
      "cell_type": "markdown",
      "source": [
        "# 7-7"
      ],
      "metadata": {
        "id": "AX48Hkw4mPSe"
      }
    },
    {
      "cell_type": "markdown",
      "source": [
        "구현하고자 하는 Deque는 단방향리스트를 기반으로 한다.\n",
        "또한, 이 Deque의 front는 리스트의 맨 앞이며 tail은 리스트의 맨 끝으로 한다.\n",
        "enqueue()의 수행시간은 Deque의 front에서 수행할 시 Θ(1), Deque의 tail에서 수행할 시 Θ(n)이다. 따라서 enqueue()의 수행 시간은 최악의 경우를 고려해 Θ(n)이다.\n",
        "dequeue()의 수행시간은 Deque의 front에서 수행할 시 Θ(1), Deque의 tail에서 수행할 시 Θ(n)이다. 따라서 dequeue()의 수행 시간은 최악의 경우를 고려해 Θ(n)이다."
      ],
      "metadata": {
        "id": "g-dNCZHVmlFn"
      }
    },
    {
      "cell_type": "markdown",
      "source": [],
      "metadata": {
        "id": "rcm0xfzjmiV3"
      }
    },
    {
      "cell_type": "markdown",
      "source": [
        "# 7-8"
      ],
      "metadata": {
        "id": "vLhdmRrymR8w"
      }
    },
    {
      "cell_type": "code",
      "source": [
        "class Deque:\n",
        "    def __init__(self):\n",
        "        self.__queue = []\n",
        "\n",
        "    def isEmpty(self) -> bool:\n",
        "        return len(self.__queue) == 0\n",
        "\n",
        "    def addFront(self, x):\n",
        "        self.__queue.insert(0, x)  # 앞쪽 삽입\n",
        "\n",
        "    def addRear(self, x):\n",
        "        self.__queue.append(x)  # 뒤쪽 삽입\n",
        "\n",
        "    def deleteFront(self):\n",
        "        if self.isEmpty():\n",
        "            return None\n",
        "        return self.__queue.pop(0)  # 앞쪽 삭제\n",
        "\n",
        "    def deleteRear(self):\n",
        "        if self.isEmpty():\n",
        "            return None\n",
        "        return self.__queue.pop()  # 뒤쪽 삭제\n",
        "\n",
        "    def front(self):\n",
        "        if self.isEmpty():\n",
        "            return None\n",
        "        return self.__queue[0]\n",
        "\n",
        "    def rear(self):\n",
        "        if self.isEmpty():\n",
        "            return None\n",
        "        return self.__queue[-1]\n",
        "\n",
        "    def dequeueAll(self):\n",
        "        self.__queue.clear()\n",
        "\n",
        "    def printQueue(self):\n",
        "        print(\"Deque from front:\", end=' ')\n",
        "        for item in self.__queue:\n",
        "            print(item, end=' ')\n",
        "        print()\n"
      ],
      "metadata": {
        "id": "0RZfiUATmUIb"
      },
      "execution_count": 24,
      "outputs": []
    },
    {
      "cell_type": "markdown",
      "source": [],
      "metadata": {
        "id": "0ELrJs76gxai"
      }
    },
    {
      "cell_type": "markdown",
      "source": [],
      "metadata": {
        "id": "Tff-DcsUgg4z"
      }
    },
    {
      "cell_type": "code",
      "source": [],
      "metadata": {
        "id": "6622jFNRg2qz"
      },
      "execution_count": null,
      "outputs": []
    }
  ]
}