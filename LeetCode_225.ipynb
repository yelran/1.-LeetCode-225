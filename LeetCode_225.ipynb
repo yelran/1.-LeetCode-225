{
  "nbformat": 4,
  "nbformat_minor": 0,
  "metadata": {
    "colab": {
      "provenance": [],
      "authorship_tag": "ABX9TyOxrye+g65iSCFpG/cfs2Is",
      "include_colab_link": true
    },
    "kernelspec": {
      "name": "python3",
      "display_name": "Python 3"
    },
    "language_info": {
      "name": "python"
    }
  },
  "cells": [
    {
      "cell_type": "markdown",
      "metadata": {
        "id": "view-in-github",
        "colab_type": "text"
      },
      "source": [
        "<a href=\"https://colab.research.google.com/github/yelran/1.-LeetCode-225/blob/main/LeetCode_225.ipynb\" target=\"_parent\"><img src=\"https://colab.research.google.com/assets/colab-badge.svg\" alt=\"Open In Colab\"/></a>"
      ]
    },
    {
      "cell_type": "code",
      "execution_count": 1,
      "metadata": {
        "id": "o9s52vzQWBJc"
      },
      "outputs": [],
      "source": [
        "from collections import deque\n",
        "\n",
        "class MyStack:\n",
        "\n",
        "    def __init__(self):\n",
        "        self.q1 = deque()  # 주 큐\n",
        "        self.q2 = deque()  # 보조 큐\n",
        "\n",
        "    def push(self, x: int) -> None:\n",
        "        # 새로운 원소는 보조 큐에 넣고\n",
        "        self.q2.append(x)\n",
        "\n",
        "        # 기존 원소들을 보조 큐 뒤에 붙임 (순서를 유지하기 위해)\n",
        "        while self.q1:\n",
        "            self.q2.append(self.q1.popleft())\n",
        "\n",
        "        # 큐 교체 (q2 → q1, q1은 초기화됨)\n",
        "        self.q1, self.q2 = self.q2, self.q1\n",
        "\n",
        "    def pop(self) -> int:\n",
        "        # 항상 q1의 맨 앞이 스택의 top\n",
        "        return self.q1.popleft()\n",
        "\n",
        "    def top(self) -> int:\n",
        "        return self.q1[0]\n",
        "\n",
        "    def empty(self) -> bool:\n",
        "        return not self.q1"
      ]
    },
    {
      "cell_type": "code",
      "source": [
        "class MyQueue:\n",
        "\n",
        "    def __init__(self):\n",
        "        self.stack_in = []   # 입력 전용 스택\n",
        "        self.stack_out = []  # 출력 전용 스택\n",
        "\n",
        "    def push(self, x: int) -> None:\n",
        "        self.stack_in.append(x)\n",
        "\n",
        "    def pop(self) -> int:\n",
        "        self._move_if_needed()\n",
        "        return self.stack_out.pop()\n",
        "\n",
        "    def peek(self) -> int:\n",
        "        self._move_if_needed()\n",
        "        return self.stack_out[-1]\n",
        "\n",
        "    def empty(self) -> bool:\n",
        "        return not self.stack_in and not self.stack_out\n",
        "\n",
        "    def _move_if_needed(self):\n",
        "        # 출력 스택이 비어있을 때만 입력 스택에서 데이터를 옮김\n",
        "        if not self.stack_out:\n",
        "            while self.stack_in:\n",
        "                self.stack_out.append(self.stack_in.pop())"
      ],
      "metadata": {
        "id": "fKZKBUdSdlLH"
      },
      "execution_count": null,
      "outputs": []
    },
    {
      "cell_type": "markdown",
      "source": [],
      "metadata": {
        "id": "veGCR-7aWZE4"
      }
    }
  ]
}